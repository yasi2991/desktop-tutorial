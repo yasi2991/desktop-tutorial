{
 "cells": [
  {
   "cell_type": "code",
   "execution_count": 9,
   "metadata": {},
   "outputs": [],
   "source": [
    "import json\n",
    "import pandas as pd\n",
    "\n",
    "def get_universe_config(universe_id):\n",
    "    # Read the universe_config file\n",
    "    with open('universe_config.json', 'r') as config_file:\n",
    "        universes = json.load(config_file)\n",
    "    \n",
    "    # Find the specific universe by id\n",
    "    for universe in universes:\n",
    "        if universe['id'] == universe_id:\n",
    "            return universe\n",
    "    \n",
    "    # If no matching universe is found, return None\n",
    "    return None\n",
    "\n",
    "def process_universe(universe_config):\n",
    "    if universe_config['source']['type'] == 'QSAR_index':\n",
    "        return process_qsar_index(universe_config)\n",
    "    else:\n",
    "        return universe_config\n",
    "\n",
    "def process_qsar_index(config):\n",
    "    # Placeholder function for QSAR_index processing\n",
    "    print(f\"Processing QSAR_index for universe: {config['name']}\")\n",
    "    print(f\"Indices: {config['source']['indices']}\")\n",
    "    # Add your QSAR_index processing logic here\n",
    "    return config\n",
    "\n",
    "def get_adv(universe_data, start_date=None, end_date=None, window=20):\n",
    "    if isinstance(universe_data, pd.DataFrame):\n",
    "        if start_date is None:\n",
    "            start_date = universe_data.index.min()\n",
    "        if end_date is None:\n",
    "            end_date = universe_data.index.max()\n",
    "        universe_ids = list(universe_data.columns)\n",
    "    else:\n",
    "        universe_ids = universe_data\n",
    "        \n",
    "    # ADV factor here\n",
    "    return universe_data['volume'].rolling(window=window).mean()\n",
    "\n",
    "def get_rolling_beta(universe_data, market_data = None, start_date=None, end_date=None, window=60):\n",
    "    if isinstance(universe_data, pd.DataFrame):\n",
    "        if start_date is None:\n",
    "            start_date = universe_data.index.min()\n",
    "        if end_date is None:\n",
    "            end_date = universe_data.index.max()\n",
    "        universe_ids = list(universe_data.columns)\n",
    "    else:\n",
    "        universe_ids = universe_data\n",
    "    if market_data is None:\n",
    "        market_data = get_returns(universe_data, start_date, end_date, period='daily')\n",
    "    rolling_beta = pd.DataFrame()\n",
    "    \n",
    "    return rolling_beta\n",
    "\n",
    "def get_returns(universe_data, start_date=None, end_date=None, period='daily'):\n",
    "    if isinstance(universe_data, pd.DataFrame):\n",
    "        if start_date is None:\n",
    "            start_date = universe_data.index.min()\n",
    "        if end_date is None:\n",
    "            end_date = universe_data.index.max()\n",
    "        universe_ids = list(universe_data.columns)\n",
    "    else:\n",
    "        universe_ids = universe_data\n",
    "    returns_df = pd.DataFrame()\n",
    "\n",
    "    return returns_df\n",
    "\n",
    "def get_active_universe(positions_df):\n",
    "    \"\"\"\n",
    "    Takes a DataFrame with universe elements as columns and dates as index,\n",
    "    and returns a list of universe elements that have at least one non-zero and non-null value.\n",
    "    \n",
    "    Args:\n",
    "    df (pd.DataFrame): DataFrame with universe elements as columns and dates as index\n",
    "    \n",
    "    Returns:\n",
    "    list: List of active universe elements\n",
    "    \"\"\"\n",
    "    df = positions_df.copy()\n",
    "    # Check if any value in each column is non-zero and non-null\n",
    "    active_mask = (df != 0) & (~df.isnull())\n",
    "    \n",
    "    # Get columns that have at least one True value\n",
    "    active_universe = active_mask.any().index[active_mask.any()].tolist()\n",
    "    \n",
    "    return active_universe"
   ]
  },
  {
   "cell_type": "code",
   "execution_count": 10,
   "metadata": {},
   "outputs": [],
   "source": [
    "!git add Universe.ipynb"
   ]
  },
  {
   "cell_type": "code",
   "execution_count": 11,
   "metadata": {},
   "outputs": [
    {
     "name": "stdout",
     "output_type": "stream",
     "text": [
      "[main 7bb2d7f] Add Universe.ipynb with utility functions for universe processing\n",
      " 1 file changed, 0 insertions(+), 0 deletions(-)\n",
      " create mode 100644 ST/Universe.ipynb\n"
     ]
    }
   ],
   "source": [
    "!git commit -m \"Add Universe.ipynb with utility functions for universe processing\""
   ]
  },
  {
   "cell_type": "code",
   "execution_count": 12,
   "metadata": {},
   "outputs": [
    {
     "name": "stdout",
     "output_type": "stream",
     "text": [
      "Enumerating objects: 5, done.\n",
      "Counting objects: 100% (5/5), done.\n",
      "Delta compression using up to 4 threads\n",
      "Compressing objects: 100% (2/2), done.\n",
      "Writing objects: 100% (3/3), 323 bytes | 323.00 KiB/s, done.\n",
      "Total 3 (delta 1), reused 0 (delta 0), pack-reused 0\n",
      "remote: Resolving deltas: 100% (1/1), completed with 1 local object.\u001b[K\n",
      "To https://github.com/yasi2991/desktop-tutorial.git\n",
      "   7cd2ac5..7bb2d7f  main -> main\n"
     ]
    }
   ],
   "source": [
    "!git push origin main"
   ]
  },
  {
   "cell_type": "code",
   "execution_count": null,
   "metadata": {},
   "outputs": [],
   "source": []
  }
 ],
 "metadata": {
  "kernelspec": {
   "display_name": "Python 3",
   "language": "python",
   "name": "python3"
  },
  "language_info": {
   "codemirror_mode": {
    "name": "ipython",
    "version": 3
   },
   "file_extension": ".py",
   "mimetype": "text/x-python",
   "name": "python",
   "nbconvert_exporter": "python",
   "pygments_lexer": "ipython3",
   "version": "3.10.12"
  }
 },
 "nbformat": 4,
 "nbformat_minor": 2
}
